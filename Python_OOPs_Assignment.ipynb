{
  "nbformat": 4,
  "nbformat_minor": 0,
  "metadata": {
    "colab": {
      "provenance": []
    },
    "kernelspec": {
      "name": "python3",
      "display_name": "Python 3"
    },
    "language_info": {
      "name": "python"
    }
  },
  "cells": [
    {
      "cell_type": "markdown",
      "source": [
        "### **THEORY QUESTION**\n"
      ],
      "metadata": {
        "id": "gtVIUzOSYJQA"
      }
    },
    {
      "cell_type": "markdown",
      "source": [
        "Ques: 1>> What is Object-Oriented Programming (OOP)?\n",
        "\n",
        "  ANS: Object-Oriented Programming (OOP) is a programming paradigm that structures code around objects, which encapsulate data (attributes) and methods (functions) that operate on that data. This approach promotes modularity, reusability, and easier maintenance of complex software."
      ],
      "metadata": {
        "id": "KrWiotSjYbiF"
      }
    },
    {
      "cell_type": "markdown",
      "source": [
        "Ques: 2>> What is a class in OOP?\n",
        "\n",
        "  ANS: In Object-Oriented Programming (OOP), a class is like a blueprint or template that defines the structure and behavior of objects. It’s a user-defined data type that groups related data (attributes) and methods (functions) together. A class serves as a template for creating objects (instances), and objects are instances of a class."
      ],
      "metadata": {
        "id": "bFpkGo_MZDf0"
      }
    },
    {
      "cell_type": "markdown",
      "source": [
        "Ques: 3>>  What is an object in OOP?\n",
        "\n",
        "  ANS: In Object-Oriented Programming (OOP) in Python, an object is an instance of a class. A class acts as a blueprint or a template that defines the structure and behavior of objects."
      ],
      "metadata": {
        "id": "g0WdqK89Z3LY"
      }
    },
    {
      "cell_type": "markdown",
      "source": [
        "Ques: 4>> What is the difference between abstraction and encapsulation?\n",
        "\n",
        "  ANS: Abstraction focuses on what an object does, while encapsulation focuses on how it does it. Abstraction hides unnecessary details and complexity by exposing only essential information, while encapsulation bundles data and methods that operate on that data within a single unit, also known as a class, and controls access to that data."
      ],
      "metadata": {
        "id": "g1lLa1DiaRQW"
      }
    },
    {
      "cell_type": "markdown",
      "source": [
        "Ques: 5>>  What are dunder methods in Python?\n",
        "\n",
        "  ANS: Dunder methods, also known as magic methods or special methods, are distinct methods in Python that are identified by their double leading and trailing underscores (e.g., __init__, __str__, __add__). These methods allow custom classes to interact seamlessly with Python's built-in operations, functions, and syntax."
      ],
      "metadata": {
        "id": "nSyzQmKuar_K"
      }
    },
    {
      "cell_type": "markdown",
      "source": [
        "Ques: 6>>  Explain the concept of inheritance in OOP?\n",
        "\n",
        "  ANS: Inheritance in Object-Oriented Programming (OOP) in Python is a mechanism that allows a new class (child class or derived class) to inherit attributes and methods from an existing class (parent class or base class). This promotes code reusability and establishes a hierarchical relationship between classes."
      ],
      "metadata": {
        "id": "qb4SK5dTa71z"
      }
    },
    {
      "cell_type": "markdown",
      "source": [
        "Ques: 7>>  What is polymorphism in OOP?\n",
        "\n",
        "  ANS: Polymorphism in Object-Oriented Programming (OOP) in Python refers to the ability of an object to take on many forms. It allows entities like functions, methods, or operators to behave differently based on the type of data they are handling. The core idea is that you can interact with objects of different classes in a uniform way, even though their specific implementations of a shared method might differ."
      ],
      "metadata": {
        "id": "wcHLG8u2bNzD"
      }
    },
    {
      "cell_type": "markdown",
      "source": [
        "Ques: 8>>  How is encapsulation achieved in Python?\n",
        "\n",
        "  ANS: Encapsulation in Python is achieved through a combination of conventions and language features, as Python does not have strict access modifiers like public, private, or protected found in some other object-oriented languages."
      ],
      "metadata": {
        "id": "a9xDcwjzbj_0"
      }
    },
    {
      "cell_type": "markdown",
      "source": [
        "Ques: 9>>  What is a constructor in Python?\n",
        "\n",
        "  ANS: In Python, a constructor is a special method within a class that is automatically invoked when a new object (instance) of that class is created. Its primary purpose is to initialize the object's attributes and set up its initial state."
      ],
      "metadata": {
        "id": "HKp5pVG_bwwC"
      }
    },
    {
      "cell_type": "markdown",
      "source": [
        "Ques: 10>>  What are class and static methods in Python?\n",
        "\n",
        "  ANS: In Python, class methods and static methods are distinct types of methods within a class, differing in their access to class and instance data and how they are typically used.\n",
        "\n",
        "> Class methods are bound to the class and receive the class itself as the first argument, conventionally named cls. They are defined using the @classmethod decorator.\n",
        "\n",
        "> Static methods are not bound to either the class or an instance. They do not receive self (instance) or cls (class) as their first argument. They are defined using the @staticmethod decorator."
      ],
      "metadata": {
        "id": "0GLWzKX3b7yY"
      }
    },
    {
      "cell_type": "markdown",
      "source": [
        "Ques: 11>> What is method overloading in Python?\n",
        "\n",
        "  ANS: Method overloading in Python refers to the concept of having multiple methods within a single class that share the same name but can perform different actions based on the number or type of arguments passed to them."
      ],
      "metadata": {
        "id": "zJZwJBbZcV6U"
      }
    },
    {
      "cell_type": "markdown",
      "source": [
        "Ques: 12>>  What is method overriding in OOP?\n",
        "\n",
        "  ANS: Method overriding in Python is a special feature that allows programmers to implement their own methods on existing objects. They can override certain methods and existing modules without creating a new one. This is a useful feature when you want to customize the functionality of an existing class."
      ],
      "metadata": {
        "id": "HgLeryAbc8Fs"
      }
    },
    {
      "cell_type": "markdown",
      "source": [
        "Ques: 13>> What is a property decorator in Python?\n",
        "\n",
        "  ANS: In Python, the @property decorator is a built-in decorator that transforms a method within a class into a \"property.\" This allows the method to be accessed and potentially modified or deleted as if it were a regular attribute, while still enabling the execution of custom logic (like validation, computation, or access control) when the attribute is accessed, assigned, or deleted."
      ],
      "metadata": {
        "id": "9wDRJYErdR1l"
      }
    },
    {
      "cell_type": "markdown",
      "source": [
        "Ques: 14>> Why is polymorphism important in OOP?\n",
        "\n",
        "  ANS: Polymorphism is important in OOP because it lets you:\n",
        "\n",
        ">>Use one interface (like a method name) for different objects\n",
        "\n",
        ">>Write cleaner, reusable, and flexible code\n",
        "\n",
        ">>Easily work with groups of different objects in a uniform way"
      ],
      "metadata": {
        "id": "B8WWNDaadsVr"
      }
    },
    {
      "cell_type": "markdown",
      "source": [
        "Ques: 15>> What is an abstract class in Python?\n",
        "\n",
        "  ANS: An abstract class is a class that cannot be directly instantiated (you can’t create objects from it). It's meant to be inherited by other classes. It often defines common methods or structure that other (child) classes must follow."
      ],
      "metadata": {
        "id": "yptfaDh5eb19"
      }
    },
    {
      "cell_type": "markdown",
      "source": [
        "Ques: 16>>  What are the advantages of OOP?\n",
        "\n",
        "  ANS: Object-Oriented Programming (OOP) offers several advantages, primarily enhancing code organization, reusability, and maintainability. Key benefits include modularity, allowing for easier troubleshooting and collaborative development; code reusability through inheritance, reducing redundancy; and flexibility through polymorphism, enabling adaptable solutions. Additionally, OOP simplifies complex systems, improves code readability, and facilitates scalability and maintainability."
      ],
      "metadata": {
        "id": "YjJ1MwG3fHKS"
      }
    },
    {
      "cell_type": "markdown",
      "source": [
        "Ques: 17>> What is the difference between a class variable and an instance variable?\n",
        "\n",
        "  ANS: In Python, the primary difference between class variables and instance variables lies in their scope and how they are shared among instances of a class.\n",
        "\n",
        "  >>Class variables are defined directly within the class body, outside of any methods.\n",
        "\n",
        "  >>Instance variables are defined within the methods of a class, typically within the __init__ constructor, and are associated with a specific instance using the self keyword."
      ],
      "metadata": {
        "id": "XhTOSGg5hYOA"
      }
    },
    {
      "cell_type": "markdown",
      "source": [
        "Ques: 18>> What is multiple inheritance in Python?\n",
        "\n",
        "  ANS: Multiple inheritance in Python is a feature that allows a class to inherit attributes and methods from more than one parent class. This means a single child class can combine functionalities and characteristics from several distinct base classes."
      ],
      "metadata": {
        "id": "F9hf1R4Ihyc0"
      }
    },
    {
      "cell_type": "markdown",
      "source": [
        "Ques: 19>> Explain the purpose of ‘’__str__’ and ‘__repr__’ ‘ methods in Python?\n",
        "\n",
        "  ANS: In Python, the str() and repr() functions are used to obtain string representations of objects. While they may seem similar at first glance, there are some differences in how they behave. Both of the functions can be helpful in debugging or printing useful information about the object."
      ],
      "metadata": {
        "id": "vBknjrIZiEry"
      }
    },
    {
      "cell_type": "markdown",
      "source": [
        "Ques: 20>> What is the significance of the ‘super()’ function in Python?\n",
        "\n",
        "  ANS: The super() function in Python holds significant importance within the context of object-oriented programming, particularly concerning inheritance. Its primary significance lies in facilitating the interaction between a subclass and its parent (or \"superclass\") in an inheritance hierarchy."
      ],
      "metadata": {
        "id": "-sRch7MxiqVb"
      }
    },
    {
      "cell_type": "markdown",
      "source": [
        "Ques: 21>> What is the significance of the __del__ method in Python?\n",
        "\n",
        "  ANS: The __del__ method in Python, also known as the destructor, holds significance primarily for resource cleanup when an object is about to be garbage collected.\n"
      ],
      "metadata": {
        "id": "OQ_jmajti6lw"
      }
    },
    {
      "cell_type": "markdown",
      "source": [
        "Ques: 22>> What is the difference between @staticmethod and @classmethod in Python?\n",
        "\n",
        "  ANS: The difference between the class method vs Static method in Python and when to use the class method and static method in python.\n",
        "\n",
        ">>The @classmethod decorator is a built-in function decorator that is an expression that gets evaluated after your function is defined. The result of that evaluation shadows your function definition. A class method receives the class as an implicit first argument, just like an instance method receives the instance\n",
        "\n",
        ">>A static method does not receive an implicit first argument. A static method is also a method that is bound to the class and not the object of the class. This method can't access or modify the class state. It is present in a class because it makes sense for the method to be present in class."
      ],
      "metadata": {
        "id": "Gb3ZC2azjNNK"
      }
    },
    {
      "cell_type": "markdown",
      "source": [
        "Ques: 23>>How does polymorphism work in Python with inheritance?\n",
        "\n",
        "  ANS: Polymorphism in Python, when combined with inheritance, allows objects of different classes to be treated as objects of a common superclass, enabling a single interface to be used for different underlying implementations. This is primarily achieved through Method Overriding."
      ],
      "metadata": {
        "id": "sKUYgx0tkwjY"
      }
    },
    {
      "cell_type": "markdown",
      "source": [
        "Ques: 24>> What is method chaining in Python OOP?\n",
        "\n",
        "  ANS: Method chaining in Python's Object-Oriented Programming (OOP) is a technique where multiple methods are called sequentially on the same object in a single line of code. This is achieved by having each method return the object itself (or a modified version of it) after performing its operation."
      ],
      "metadata": {
        "id": "PnX0zlahlSic"
      }
    },
    {
      "cell_type": "markdown",
      "source": [
        "Ques: 25>>  What is the purpose of the __call__ method in Python?\n",
        "\n",
        "  ANS: The purpose of the __call__ method in Python is to make instances of a class callable, meaning they can be invoked like functions.\n",
        "When a class defines the __call__ method, you can treat an object created from that class as if it were a function. When you \"call\" the object (e.g., my_object(arg1, arg2)), the __call__ method of that object is automatically executed, receiving the arguments passed during the call."
      ],
      "metadata": {
        "id": "wiJw2xT9llcT"
      }
    },
    {
      "cell_type": "markdown",
      "source": [
        "### **PRACTICAL QUESTIONS**"
      ],
      "metadata": {
        "id": "mWVulrSdl15T"
      }
    },
    {
      "cell_type": "markdown",
      "source": [
        "QUES: 1  Create a parent class Animal with a method speak() that prints a generic message. Create a child class Dog\n",
        "that overrides the speak() method to print \"Bark!\".\n",
        "\n"
      ],
      "metadata": {
        "id": "24SoMQsAmIMt"
      }
    },
    {
      "cell_type": "code",
      "source": [
        "# Parent class\n",
        "class Animal:\n",
        "    def speak(self):\n",
        "        print(\"The animal makes a sound.\")\n",
        "\n",
        "# Child class\n",
        "class Dog(Animal):\n",
        "    def speak(self):\n",
        "        print(\"Bark!\")\n",
        "\n",
        "# Create objects\n",
        "generic_animal = Animal()\n",
        "generic_animal.speak()\n",
        "\n",
        "dog = Dog()\n",
        "dog.speak()"
      ],
      "metadata": {
        "colab": {
          "base_uri": "https://localhost:8080/",
          "height": 0
        },
        "id": "DIX46PAgmQnE",
        "outputId": "75169155-71c2-4ebf-f433-89ce5e04e178"
      },
      "execution_count": 5,
      "outputs": [
        {
          "output_type": "stream",
          "name": "stdout",
          "text": [
            "The animal makes a sound.\n",
            "Bark!\n"
          ]
        }
      ]
    },
    {
      "cell_type": "markdown",
      "source": [
        "Ques: 2>> Write a program to create an abstract class Shape with a method area(). Derive classes Circle and Rectangle from it and implement the area() method in both.\n"
      ],
      "metadata": {
        "id": "boZbVqUYm-nH"
      }
    },
    {
      "cell_type": "code",
      "source": [
        "from abc import ABC, abstractmethod\n",
        "\n",
        "# Abstract class Shape\n",
        "class Shape(ABC):\n",
        "\n",
        "    @abstractmethod\n",
        "    def area(self):\n",
        "        pass\n",
        "\n",
        "# Derived class Circle\n",
        "class Circle(Shape):\n",
        "    def __init__(self, radius):\n",
        "        self.radius = radius\n",
        "\n",
        "    def area(self):\n",
        "        # Area of a circle: π * radius^2\n",
        "        return 3.14159 * self.radius * self.radius\n",
        "\n",
        "# Derived class Rectangle\n",
        "class Rectangle(Shape):\n",
        "    def __init__(self, length, width):\n",
        "        self.length = length\n",
        "        self.width = width\n",
        "\n",
        "    def area(self):\n",
        "        # Area of a rectangle: length * width\n",
        "        return self.length * self.width\n",
        "\n",
        "# Example usage\n",
        "circle = Circle(5)\n",
        "rectangle = Rectangle(4, 6)\n",
        "\n",
        "print(f\"Area of the Circle: {circle.area()}\")\n",
        "print(f\"Area of the Rectangle: {rectangle.area()}\")\n"
      ],
      "metadata": {
        "colab": {
          "base_uri": "https://localhost:8080/",
          "height": 0
        },
        "id": "Ve8aTF-AnF46",
        "outputId": "bc71f69d-26f9-4b51-96da-dd862df16cb1"
      },
      "execution_count": 8,
      "outputs": [
        {
          "output_type": "stream",
          "name": "stdout",
          "text": [
            "Area of the Circle: 78.53975\n",
            "Area of the Rectangle: 24\n"
          ]
        }
      ]
    },
    {
      "cell_type": "markdown",
      "source": [
        "Ques: 3>>  Implement a multi-level inheritance scenario where a class Vehicle has an attribute type. Derive a class Car and further derive a class ElectricCar that adds a battery attribute."
      ],
      "metadata": {
        "id": "wCE_9UneZDD6"
      }
    },
    {
      "cell_type": "code",
      "source": [
        "class Vehicle:\n",
        "    def __init__(self, type):\n",
        "        self.type = type\n",
        "\n",
        "    def display_vehicle_info(self):\n",
        "        print(f\"Vehicle Type: {self.type}\")\n",
        "\n",
        "\n",
        "class Car(Vehicle):\n",
        "    def __init__(self, type, num_doors):\n",
        "        super().__init__(type)\n",
        "        self.num_doors = num_doors\n",
        "\n",
        "    def display_car_info(self):\n",
        "        self.display_vehicle_info()\n",
        "        print(f\"Number of doors: {self.num_doors}\")\n",
        "\n",
        "\n",
        "class ElectricCar(Car):\n",
        "    def __init__(self, type, num_doors, battery_capacity):\n",
        "        super().__init__(type, num_doors)\n",
        "        self.battery_capacity = battery_capacity\n",
        "\n",
        "    def display_electric_car_info(self):\n",
        "        self.display_car_info()\n",
        "        print(f\"Battery Capacity: {self.battery_capacity} kWh\")\n",
        "\n",
        "# Example usage\n",
        "vehicle = Vehicle(\"Generic\")\n",
        "car = Car(\"Sedan\", 4)\n",
        "electric_car = ElectricCar(\"Sedan\", 4, 75)\n",
        "\n",
        "vehicle.display_vehicle_info()\n",
        "car.display_car_info()\n",
        "electric_car.display_electric_car_info()"
      ],
      "metadata": {
        "colab": {
          "base_uri": "https://localhost:8080/",
          "height": 0
        },
        "id": "pemb1pIfZK_S",
        "outputId": "0bf6882e-97de-4429-f809-c8e15e01ab07"
      },
      "execution_count": 9,
      "outputs": [
        {
          "output_type": "stream",
          "name": "stdout",
          "text": [
            "Vehicle Type: Generic\n",
            "Vehicle Type: Sedan\n",
            "Number of doors: 4\n",
            "Vehicle Type: Sedan\n",
            "Number of doors: 4\n",
            "Battery Capacity: 75 kWh\n"
          ]
        }
      ]
    },
    {
      "cell_type": "markdown",
      "source": [
        "Ques: 4>> Demonstrate polymorphism by creating a base class Bird with a method fly(). Create two derived classes Sparrow and Penguin that override the fly() method"
      ],
      "metadata": {
        "id": "G3d7tOYjaFN2"
      }
    },
    {
      "cell_type": "code",
      "source": [
        "# Base class Bird\n",
        "class Bird:\n",
        "    def fly(self):\n",
        "        raise NotImplementedError(\"Subclass must implement abstract method\")\n",
        "\n",
        "# Derived class Sparrow inherits from Bird\n",
        "class Sparrow(Bird):\n",
        "    def fly(self):\n",
        "        return \"Sparrow is flying!\"\n",
        "\n",
        "# Derived class Penguin inherits from Bird\n",
        "class Penguin(Bird):\n",
        "    def fly(self):\n",
        "        return \"Penguin cannot fly!\"\n",
        "\n",
        "# Creating instances of Sparrow and Penguin\n",
        "sparrow = Sparrow()\n",
        "penguin = Penguin()\n",
        "\n",
        "# Demonstrating polymorphism\n",
        "print(sparrow.fly())\n",
        "print(penguin.fly())"
      ],
      "metadata": {
        "colab": {
          "base_uri": "https://localhost:8080/",
          "height": 0
        },
        "id": "PK4NqR6FaLB-",
        "outputId": "aa2fe4c5-50da-4734-a142-faf10d43c18f"
      },
      "execution_count": 11,
      "outputs": [
        {
          "output_type": "stream",
          "name": "stdout",
          "text": [
            "Sparrow is flying!\n",
            "Penguin cannot fly!\n"
          ]
        }
      ]
    },
    {
      "cell_type": "markdown",
      "source": [
        "Ques: 5>> Write a program to demonstrate encapsulation by creating a class BankAccount with private attributes balance and methods to deposit, withdraw, and check balance."
      ],
      "metadata": {
        "id": "eVznasg1avyb"
      }
    },
    {
      "cell_type": "code",
      "source": [
        "class BankAccount:\n",
        "    def __init__(self, initial_balance=0):\n",
        "        # Private attribute: balance\n",
        "        self.__balance = initial_balance\n",
        "\n",
        "    # Method to deposit money\n",
        "    def deposit(self, amount):\n",
        "        if amount > 0:\n",
        "            self.__balance += amount\n",
        "            print(f\"Deposited: ${amount}\")\n",
        "        else:\n",
        "            print(\"Deposit amount must be positive.\")\n",
        "\n",
        "    # Method to withdraw money\n",
        "    def withdraw(self, amount):\n",
        "        if amount > 0 and amount <= self.__balance:\n",
        "            self.__balance -= amount\n",
        "            print(f\"Withdrawn: ${amount}\")\n",
        "        elif amount > self.__balance:\n",
        "            print(\"Insufficient balance.\")\n",
        "        else:\n",
        "            print(\"Withdraw amount must be positive.\")\n",
        "\n",
        "    # Method to check the balance (getter method)\n",
        "    def get_balance(self):\n",
        "        return f\"Current balance: ${self.__balance}\"\n",
        "\n",
        "    # Private method to simulate an internal process (just for demonstration)\n",
        "    def __update_balance(self, amount):\n",
        "        self.__balance += amount\n",
        "\n",
        "# Create an instance of BankAccount\n",
        "account = BankAccount(1000)\n",
        "\n",
        "# Perform operations\n",
        "print(account.get_balance())\n",
        "account.deposit(500)\n",
        "account.withdraw(200)\n",
        "print(account.get_balance())"
      ],
      "metadata": {
        "colab": {
          "base_uri": "https://localhost:8080/",
          "height": 0
        },
        "id": "jpIldy5Ta3oE",
        "outputId": "22fd379b-55b5-4892-e035-abccf8d1b49a"
      },
      "execution_count": 13,
      "outputs": [
        {
          "output_type": "stream",
          "name": "stdout",
          "text": [
            "Current balance: $1000\n",
            "Deposited: $500\n",
            "Withdrawn: $200\n",
            "Current balance: $1300\n"
          ]
        }
      ]
    },
    {
      "cell_type": "markdown",
      "source": [
        "Ques: 6>> Demonstrate runtime polymorphism using a method play() in a base class Instrument. Derive classes Guitar and Piano that implement their own version of play().\n"
      ],
      "metadata": {
        "id": "S38hLHLRbbt_"
      }
    },
    {
      "cell_type": "code",
      "source": [
        "# Base class Instrument\n",
        "class Instrument:\n",
        "    def play(self):\n",
        "        raise NotImplementedError(\"Subclass must implement abstract method\")\n",
        "\n",
        "# Derived class Guitar inherits from Instrument\n",
        "class Guitar(Instrument):\n",
        "    def play(self):\n",
        "        return \"Strumming the guitar!\"\n",
        "\n",
        "# Derived class Piano inherits from Instrument\n",
        "class Piano(Instrument):\n",
        "    def play(self):\n",
        "        return \"Playing the piano!\"\n",
        "\n",
        "# Create instances of Guitar and Piano\n",
        "guitar = Guitar()\n",
        "piano = Piano()\n",
        "\n",
        "# Demonstrating runtime polymorphism\n",
        "instruments = [guitar, piano]\n",
        "\n",
        "for instrument in instruments:\n",
        "    print(instrument.play())"
      ],
      "metadata": {
        "colab": {
          "base_uri": "https://localhost:8080/",
          "height": 0
        },
        "id": "YqdcpZJQbhYf",
        "outputId": "5d39a5be-9fb5-41d9-fc94-d8bbc710ee26"
      },
      "execution_count": 14,
      "outputs": [
        {
          "output_type": "stream",
          "name": "stdout",
          "text": [
            "Strumming the guitar!\n",
            "Playing the piano!\n"
          ]
        }
      ]
    },
    {
      "cell_type": "markdown",
      "source": [
        "Ques: 7>>  Create a class MathOperations with a class method add_numbers() to add two numbers and a static method subtract_numbers() to subtract two numbers.\n"
      ],
      "metadata": {
        "id": "QG_-gD-Fb1_e"
      }
    },
    {
      "cell_type": "code",
      "source": [
        "class MathOperations:\n",
        "    # Class method to add two numbers\n",
        "    @classmethod\n",
        "    def add_numbers(cls, num1, num2):\n",
        "        return num1 + num2\n",
        "\n",
        "    # Static method to subtract two numbers\n",
        "    @staticmethod\n",
        "    def subtract_numbers(num1, num2):\n",
        "        return num1 - num2\n",
        "\n",
        "# Using the class method to add two numbers\n",
        "sum_result = MathOperations.add_numbers(10, 5)\n",
        "print(f\"Sum: {sum_result}\")\n",
        "\n",
        "# Using the static method to subtract two numbers\n",
        "difference_result = MathOperations.subtract_numbers(10, 5)\n",
        "print(f\"Difference: {difference_result}\")"
      ],
      "metadata": {
        "colab": {
          "base_uri": "https://localhost:8080/",
          "height": 0
        },
        "id": "_MphKbekcAik",
        "outputId": "a1e27ef4-7fca-4fb5-bd07-d00e302fd4fe"
      },
      "execution_count": 15,
      "outputs": [
        {
          "output_type": "stream",
          "name": "stdout",
          "text": [
            "Sum: 15\n",
            "Difference: 5\n"
          ]
        }
      ]
    },
    {
      "cell_type": "markdown",
      "source": [
        "Ques: 8>> Implement a class Person with a class method to count the total number of persons created."
      ],
      "metadata": {
        "id": "cyqiY-8rcKK_"
      }
    },
    {
      "cell_type": "code",
      "source": [
        "class Person:\n",
        "    # Class variable to count the number of Person instances\n",
        "    total_persons = 0\n",
        "\n",
        "    def __init__(self, name, age):\n",
        "        self.name = name\n",
        "        self.age = age\n",
        "        # Increment the count each time a new Person is created\n",
        "        Person.total_persons += 1\n",
        "\n",
        "    # Class method to get the total number of Person instances\n",
        "    @classmethod\n",
        "    def get_total_persons(cls):\n",
        "        return cls.total_persons\n",
        "\n",
        "# Creating instances of Person\n",
        "person1 = Person(\"Alice\", 30)\n",
        "person2 = Person(\"Bob\", 25)\n",
        "person3 = Person(\"Charlie\", 35)\n",
        "\n",
        "# Using the class method to get the total number of persons created\n",
        "print(f\"Total persons created: {Person.get_total_persons()}\")\n"
      ],
      "metadata": {
        "colab": {
          "base_uri": "https://localhost:8080/",
          "height": 0
        },
        "id": "5c5C8_NDcPIJ",
        "outputId": "b350b601-4d66-4832-dbb8-91087d15cfbb"
      },
      "execution_count": 16,
      "outputs": [
        {
          "output_type": "stream",
          "name": "stdout",
          "text": [
            "Total persons created: 3\n"
          ]
        }
      ]
    },
    {
      "cell_type": "markdown",
      "source": [
        "Ques: 9>> Write a class Fraction with attributes numerator and denominator. Override the str method to display the fraction as \"numerator/denominator\".\n",
        ""
      ],
      "metadata": {
        "id": "3Hg_U9bxcp4v"
      }
    },
    {
      "cell_type": "code",
      "source": [
        "class Fraction:\n",
        "    def __init__(self, numerator, denominator):\n",
        "        if denominator == 0:\n",
        "            raise ValueError(\"Denominator cannot be zero.\")\n",
        "        self.numerator = numerator\n",
        "        self.denominator = denominator\n",
        "\n",
        "    # Override the __str__ method to display the fraction as \"numerator/denominator\"\n",
        "    def __str__(self):\n",
        "        return f\"{self.numerator}/{self.denominator}\"\n",
        "\n",
        "# Create instances of Fraction\n",
        "fraction1 = Fraction(3, 4)\n",
        "fraction2 = Fraction(5, 8)\n",
        "\n",
        "# Print the fractions using the overridden __str__ method\n",
        "print(fraction1)\n",
        "print(fraction2)"
      ],
      "metadata": {
        "colab": {
          "base_uri": "https://localhost:8080/",
          "height": 0
        },
        "id": "SrVTPKobcySm",
        "outputId": "88304bca-c2ff-4292-d81e-367ec0c573c3"
      },
      "execution_count": 18,
      "outputs": [
        {
          "output_type": "stream",
          "name": "stdout",
          "text": [
            "3/4\n",
            "5/8\n"
          ]
        }
      ]
    },
    {
      "cell_type": "markdown",
      "source": [
        "Ques: 10>>  Demonstrate operator overloading by creating a class Vector and overriding the add method to add two vectors."
      ],
      "metadata": {
        "id": "tdbDyTJ7c_L0"
      }
    },
    {
      "cell_type": "code",
      "source": [
        "class Vector:\n",
        "    def __init__(self, x, y):\n",
        "        self.x = x\n",
        "        self.y = y\n",
        "\n",
        "    # Overloading the '+' operator to add two vectors\n",
        "    def __add__(self, other):\n",
        "        # Adding the corresponding components of the two vectors\n",
        "        return Vector(self.x + other.x, self.y + other.y)\n",
        "\n",
        "    # Method to represent the vector as a string (for better printing)\n",
        "    def __str__(self):\n",
        "        return f\"({self.x}, {self.y})\"\n",
        "\n",
        "# Create instances of Vector\n",
        "vector1 = Vector(1, 2)\n",
        "vector2 = Vector(3, 4)\n",
        "\n",
        "# Add two vectors using the overloaded '+' operator\n",
        "result = vector1 + vector2\n",
        "\n",
        "# Print the result (which calls the __str__ method)\n",
        "print(f\"Sum of vectors: {result}\")"
      ],
      "metadata": {
        "colab": {
          "base_uri": "https://localhost:8080/",
          "height": 0
        },
        "id": "RVN40ZKSdHeH",
        "outputId": "74d5526c-c8d7-4972-c028-6b8dbc0dbc34"
      },
      "execution_count": 19,
      "outputs": [
        {
          "output_type": "stream",
          "name": "stdout",
          "text": [
            "Sum of vectors: (4, 6)\n"
          ]
        }
      ]
    },
    {
      "cell_type": "markdown",
      "source": [
        "Ques: 11>> . Create a class Person with attributes name and age. Add a method greet() that prints \"Hello, my name is {name} and I am {age} years old.\""
      ],
      "metadata": {
        "id": "jLNcjd81dV2S"
      }
    },
    {
      "cell_type": "code",
      "source": [
        "class Person:\n",
        "    def __init__(self, name, age):\n",
        "        # Initialize the attributes\n",
        "        self.name = name\n",
        "        self.age = age\n",
        "\n",
        "    def greet(self):\n",
        "        # Method to print a greeting message\n",
        "        print(f\"Hello, my name is {self.name} and I am {self.age} years old.\")\n",
        "\n",
        "# Create an instance of Person\n",
        "person1 = Person(\"Alice\", 30)\n",
        "\n",
        "# Call the greet method\n",
        "person1.greet()"
      ],
      "metadata": {
        "colab": {
          "base_uri": "https://localhost:8080/",
          "height": 0
        },
        "id": "lJ4nLiBLdgtL",
        "outputId": "c53d06cf-bf3f-473a-bc3b-994df38dcaec"
      },
      "execution_count": 20,
      "outputs": [
        {
          "output_type": "stream",
          "name": "stdout",
          "text": [
            "Hello, my name is Alice and I am 30 years old.\n"
          ]
        }
      ]
    },
    {
      "cell_type": "markdown",
      "source": [
        "Ques: 12>> . Implement a class Student with attributes name and grades. Create a method average_grade() to compute the average of the grades"
      ],
      "metadata": {
        "id": "suyO9IO6eobB"
      }
    },
    {
      "cell_type": "code",
      "source": [
        "class Student:\n",
        "    def __init__(self, name, grades):\n",
        "        # Initialize the student's name and grades\n",
        "        self.name = name\n",
        "        self.grades = grades\n",
        "\n",
        "    def average_grade(self):\n",
        "        # Compute and return the average of the grades\n",
        "        if len(self.grades) == 0:\n",
        "            return 0  # Return 0 if there are no grades\n",
        "        return sum(self.grades) / len(self.grades)\n",
        "\n",
        "# Create an instance of Student\n",
        "student1 = Student(\"John\", [85, 90, 78, 92, 88])\n",
        "\n",
        "# Calculate the average grade for the student\n",
        "average = student1.average_grade()\n",
        "\n",
        "# Print the average grade\n",
        "print(f\"{student1.name}'s average grade is: {average:.2f}\")"
      ],
      "metadata": {
        "colab": {
          "base_uri": "https://localhost:8080/",
          "height": 0
        },
        "id": "zSUF-HqNe7_Q",
        "outputId": "99bbf23a-cc82-4012-be9b-47b61c6b07d1"
      },
      "execution_count": 21,
      "outputs": [
        {
          "output_type": "stream",
          "name": "stdout",
          "text": [
            "John's average grade is: 86.60\n"
          ]
        }
      ]
    },
    {
      "cell_type": "markdown",
      "source": [
        "Ques: 13>>  Create a class Rectangle with methods set_dimensions() to set the dimensions and area() to calculate the area."
      ],
      "metadata": {
        "id": "amhyk_T0fDOf"
      }
    },
    {
      "cell_type": "code",
      "source": [
        "class Rectangle:\n",
        "    def __init__(self, length=0, width=0):\n",
        "        self.length = length\n",
        "        self.width = width\n",
        "\n",
        "    def set_dimensions(self, length, width):\n",
        "        \"\"\"Set the dimensions of the rectangle.\"\"\"\n",
        "        self.length = length\n",
        "        self.width = width\n",
        "\n",
        "    def area(self):\n",
        "        \"\"\"Calculate and return the area of the rectangle.\"\"\"\n",
        "        return self.length * self.width\n",
        "\n",
        "# Example Usage:\n",
        "rect = Rectangle()\n",
        "rect.set_dimensions(5, 3)\n",
        "print(\"Area of rectangle:\", rect.area())"
      ],
      "metadata": {
        "colab": {
          "base_uri": "https://localhost:8080/",
          "height": 0
        },
        "id": "BR4ZpXjhfMzO",
        "outputId": "d34c1ca8-bcfd-42ee-f51c-9a46181a123f"
      },
      "execution_count": 22,
      "outputs": [
        {
          "output_type": "stream",
          "name": "stdout",
          "text": [
            "Area of rectangle: 15\n"
          ]
        }
      ]
    },
    {
      "cell_type": "markdown",
      "source": [
        "Ques: 14>> . Create a class Employee with a method calculate_salary() that computes the salary based on hours worked and hourly rate. Create a derived class Manager that adds a bonus to the salary"
      ],
      "metadata": {
        "id": "m92XjZEVfWx5"
      }
    },
    {
      "cell_type": "code",
      "source": [
        "class Employee:\n",
        "    def __init__(self, name, hours_worked, hourly_rate):\n",
        "        self.name = name\n",
        "        self.hours_worked = hours_worked\n",
        "        self.hourly_rate = hourly_rate\n",
        "\n",
        "    def calculate_salary(self):\n",
        "        \"\"\"Calculate the salary based on hours worked and hourly rate.\"\"\"\n",
        "        return self.hours_worked * self.hourly_rate\n",
        "\n",
        "\n",
        "class Manager(Employee):\n",
        "    def __init__(self, name, hours_worked, hourly_rate, bonus):\n",
        "        # Call the constructor of the parent class Employee\n",
        "        super().__init__(name, hours_worked, hourly_rate)\n",
        "        self.bonus = bonus\n",
        "\n",
        "    def calculate_salary(self):\n",
        "        \"\"\"Calculate salary with an added bonus for the Manager.\"\"\"\n",
        "        base_salary = super().calculate_salary()  # Calculate base salary from Employee class\n",
        "        return base_salary + self.bonus\n",
        "\n",
        "\n",
        "# Example Usage:\n",
        "employee = Employee(\"Alice\", 40, 20)  # 40 hours worked, $20/hour\n",
        "print(f\"{employee.name}'s Salary: ${employee.calculate_salary()}\")\n",
        "\n",
        "manager = Manager(\"Bob\", 45, 30, 500)  # 45 hours worked, $30/hour + $500 bonus\n",
        "print(f\"{manager.name}'s Salary: ${manager.calculate_salary()}\")"
      ],
      "metadata": {
        "colab": {
          "base_uri": "https://localhost:8080/",
          "height": 0
        },
        "id": "LumTqkNXffxG",
        "outputId": "4f71ff9b-9d61-4c3b-ab97-23026fe3660f"
      },
      "execution_count": 23,
      "outputs": [
        {
          "output_type": "stream",
          "name": "stdout",
          "text": [
            "Alice's Salary: $800\n",
            "Bob's Salary: $1850\n"
          ]
        }
      ]
    },
    {
      "cell_type": "markdown",
      "source": [
        "Ques: 15>> . Create a class Product with attributes name, price, and quantity. Implement a method total_price() that calculates the total price of the product"
      ],
      "metadata": {
        "id": "oCyTBQ9qfvOx"
      }
    },
    {
      "cell_type": "code",
      "source": [
        "class Product:\n",
        "    def __init__(self, name, price, quantity):\n",
        "        self.name = name\n",
        "        self.price = price\n",
        "        self.quantity = quantity\n",
        "\n",
        "    def total_price(self):\n",
        "        \"\"\"Calculate the total price based on the quantity and price of the product.\"\"\"\n",
        "        return self.price * self.quantity\n",
        "\n",
        "# Example Usage:\n",
        "product = Product(\"Laptop\", 1000, 3)  # 3 laptops, each priced at $1000\n",
        "print(f\"Total price for {product.name}: ${product.total_price()}\")"
      ],
      "metadata": {
        "colab": {
          "base_uri": "https://localhost:8080/",
          "height": 0
        },
        "id": "fErUZGx-f2Gm",
        "outputId": "2e1d4790-cc70-490c-f65c-d6e092da80ac"
      },
      "execution_count": 24,
      "outputs": [
        {
          "output_type": "stream",
          "name": "stdout",
          "text": [
            "Total price for Laptop: $3000\n"
          ]
        }
      ]
    },
    {
      "cell_type": "markdown",
      "source": [
        "Ques: 16>> . Create a class Animal with an abstract method sound(). Create two derived classes Cow and Sheep that implement the sound() method."
      ],
      "metadata": {
        "id": "SfJYHBzNf-1i"
      }
    },
    {
      "cell_type": "code",
      "source": [
        "from abc import ABC, abstractmethod\n",
        "\n",
        "# Abstract base class Animal\n",
        "class Animal(ABC):\n",
        "    @abstractmethod\n",
        "    def sound(self):\n",
        "        \"\"\"Abstract method that must be implemented by subclasses.\"\"\"\n",
        "        pass\n",
        "\n",
        "# Derived class Cow\n",
        "class Cow(Animal):\n",
        "    def sound(self):\n",
        "        \"\"\"Implement the sound of a Cow.\"\"\"\n",
        "        return \"Moo\"\n",
        "\n",
        "# Derived class Sheep\n",
        "class Sheep(Animal):\n",
        "    def sound(self):\n",
        "        \"\"\"Implement the sound of a Sheep.\"\"\"\n",
        "        return \"Baa\"\n",
        "\n",
        "# Example Usage:\n",
        "cow = Cow()\n",
        "sheep = Sheep()\n",
        "\n",
        "print(f\"The cow says: {cow.sound()}\")\n",
        "print(f\"The sheep says: {sheep.sound()}\")"
      ],
      "metadata": {
        "colab": {
          "base_uri": "https://localhost:8080/",
          "height": 0
        },
        "id": "_s2z6zdhgiFd",
        "outputId": "ae1b23e6-ea30-4f88-af92-1048dc8acf08"
      },
      "execution_count": 25,
      "outputs": [
        {
          "output_type": "stream",
          "name": "stdout",
          "text": [
            "The cow says: Moo\n",
            "The sheep says: Baa\n"
          ]
        }
      ]
    },
    {
      "cell_type": "markdown",
      "source": [
        "Ques: 17>>  Create a class Book with attributes title, author, and year_published. Add a method get_book_info() that returns a formatted string with the book's details."
      ],
      "metadata": {
        "id": "pn3-85gQgza3"
      }
    },
    {
      "cell_type": "code",
      "source": [
        "class Book:\n",
        "    def __init__(self, title, author, year_published):\n",
        "        self.title = title\n",
        "        self.author = author\n",
        "        self.year_published = year_published\n",
        "\n",
        "    def get_book_info(self):\n",
        "        \"\"\"Return a formatted string with the book's details.\"\"\"\n",
        "        return f\"Title: {self.title}\\nAuthor: {self.author}\\nYear Published: {self.year_published}\"\n",
        "\n",
        "# Example Usage:\n",
        "book = Book(\"1984\", \"George Orwell\", 1949)\n",
        "print(book.get_book_info())"
      ],
      "metadata": {
        "colab": {
          "base_uri": "https://localhost:8080/",
          "height": 0
        },
        "id": "Ln5VzmrLg30K",
        "outputId": "214c7103-89b8-40d3-d280-75b8d3d4e8d9"
      },
      "execution_count": 26,
      "outputs": [
        {
          "output_type": "stream",
          "name": "stdout",
          "text": [
            "Title: 1984\n",
            "Author: George Orwell\n",
            "Year Published: 1949\n"
          ]
        }
      ]
    },
    {
      "cell_type": "markdown",
      "source": [
        "Ques: 18>>  Create a class House with attributes address and price. Create a derived class Mansion that adds an attribute number_of_rooms."
      ],
      "metadata": {
        "id": "JEwvfIy6g__u"
      }
    },
    {
      "cell_type": "code",
      "source": [
        "# Base class House\n",
        "class House:\n",
        "    def __init__(self, address, price):\n",
        "        self.address = address\n",
        "        self.price = price\n",
        "\n",
        "    def get_house_info(self):\n",
        "        \"\"\"Return a formatted string with the house's details.\"\"\"\n",
        "        return f\"Address: {self.address}\\nPrice: ${self.price}\"\n",
        "\n",
        "# Derived class Mansion\n",
        "class Mansion(House):\n",
        "    def __init__(self, address, price, number_of_rooms):\n",
        "        # Initialize the base class House\n",
        "        super().__init__(address, price)\n",
        "        self.number_of_rooms = number_of_rooms\n",
        "\n",
        "    def get_mansion_info(self):\n",
        "        \"\"\"Return a formatted string with mansion's details including number of rooms.\"\"\"\n",
        "        return f\"{self.get_house_info()}\\nNumber of Rooms: {self.number_of_rooms}\"\n",
        "\n",
        "# Example Usage:\n",
        "house = House(\"123 Main St\", 250000)\n",
        "print(house.get_house_info())\n",
        "\n",
        "mansion = Mansion(\"456 Luxury Rd\", 5000000, 12)\n",
        "print(mansion.get_mansion_info())"
      ],
      "metadata": {
        "colab": {
          "base_uri": "https://localhost:8080/",
          "height": 0
        },
        "id": "DZDb80r1hGph",
        "outputId": "6459237a-3c30-4201-ae13-d9aa6cd4dfea"
      },
      "execution_count": 27,
      "outputs": [
        {
          "output_type": "stream",
          "name": "stdout",
          "text": [
            "Address: 123 Main St\n",
            "Price: $250000\n",
            "Address: 456 Luxury Rd\n",
            "Price: $5000000\n",
            "Number of Rooms: 12\n"
          ]
        }
      ]
    }
  ]
}